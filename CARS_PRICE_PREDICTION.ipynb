{
 "cells": [
  {
   "cell_type": "code",
   "execution_count": null,
   "metadata": {
    "collapsed": true
   },
   "outputs": [],
   "source": [
    "# In this project we are going to try to predict the price of a car, according to specific features\n",
    "# For each car we have information about the technical aspects of the vehicle such as,weight ,\n",
    "# the miles per gallon,acceleration, etc. You can read more about the data set here \n",
    "# https://archive.ics.uci.edu/ml/datasets/automobile\n",
    "# and can download it directly from \n",
    "#  https://archive.ics.uci.edu/ml/machine-learning-databases/autos/imports-85.data"
   ]
  },
  {
   "cell_type": "code",
   "execution_count": 36,
   "metadata": {
    "collapsed": true
   },
   "outputs": [],
   "source": [
    "import matplotlib.pyplot as plt\n",
    "import pandas as pd\n",
    "import numpy as np\n",
    "%matplotlib inline\n"
   ]
  },
  {
   "cell_type": "code",
   "execution_count": 38,
   "metadata": {},
   "outputs": [],
   "source": [
    "# Importing our dataset\n",
    "dataset = pd.read_excel('CARS.xlsx')"
   ]
  },
  {
   "cell_type": "code",
   "execution_count": 39,
   "metadata": {},
   "outputs": [
    {
     "data": {
      "text/html": [
       "<div>\n",
       "<style>\n",
       "    .dataframe thead tr:only-child th {\n",
       "        text-align: right;\n",
       "    }\n",
       "\n",
       "    .dataframe thead th {\n",
       "        text-align: left;\n",
       "    }\n",
       "\n",
       "    .dataframe tbody tr th {\n",
       "        vertical-align: top;\n",
       "    }\n",
       "</style>\n",
       "<table border=\"1\" class=\"dataframe\">\n",
       "  <thead>\n",
       "    <tr style=\"text-align: right;\">\n",
       "      <th></th>\n",
       "      <th>3</th>\n",
       "      <th>?</th>\n",
       "      <th>alfa-romero</th>\n",
       "      <th>gas</th>\n",
       "      <th>std</th>\n",
       "      <th>two</th>\n",
       "      <th>convertible</th>\n",
       "      <th>rwd</th>\n",
       "      <th>front</th>\n",
       "      <th>88.60</th>\n",
       "      <th>...</th>\n",
       "      <th>130</th>\n",
       "      <th>mpfi</th>\n",
       "      <th>3.47</th>\n",
       "      <th>2.68</th>\n",
       "      <th>9.00</th>\n",
       "      <th>111</th>\n",
       "      <th>5000</th>\n",
       "      <th>21</th>\n",
       "      <th>27</th>\n",
       "      <th>13495</th>\n",
       "    </tr>\n",
       "  </thead>\n",
       "  <tbody>\n",
       "    <tr>\n",
       "      <th>0</th>\n",
       "      <td>3</td>\n",
       "      <td>?</td>\n",
       "      <td>alfa-romero</td>\n",
       "      <td>gas</td>\n",
       "      <td>std</td>\n",
       "      <td>two</td>\n",
       "      <td>convertible</td>\n",
       "      <td>rwd</td>\n",
       "      <td>front</td>\n",
       "      <td>88.6</td>\n",
       "      <td>...</td>\n",
       "      <td>130</td>\n",
       "      <td>mpfi</td>\n",
       "      <td>3.47</td>\n",
       "      <td>2.68</td>\n",
       "      <td>9.0</td>\n",
       "      <td>111</td>\n",
       "      <td>5000</td>\n",
       "      <td>21</td>\n",
       "      <td>27</td>\n",
       "      <td>16500</td>\n",
       "    </tr>\n",
       "    <tr>\n",
       "      <th>1</th>\n",
       "      <td>1</td>\n",
       "      <td>?</td>\n",
       "      <td>alfa-romero</td>\n",
       "      <td>gas</td>\n",
       "      <td>std</td>\n",
       "      <td>two</td>\n",
       "      <td>hatchback</td>\n",
       "      <td>rwd</td>\n",
       "      <td>front</td>\n",
       "      <td>94.5</td>\n",
       "      <td>...</td>\n",
       "      <td>152</td>\n",
       "      <td>mpfi</td>\n",
       "      <td>2.68</td>\n",
       "      <td>3.47</td>\n",
       "      <td>9.0</td>\n",
       "      <td>154</td>\n",
       "      <td>5000</td>\n",
       "      <td>19</td>\n",
       "      <td>26</td>\n",
       "      <td>16500</td>\n",
       "    </tr>\n",
       "    <tr>\n",
       "      <th>2</th>\n",
       "      <td>2</td>\n",
       "      <td>164</td>\n",
       "      <td>audi</td>\n",
       "      <td>gas</td>\n",
       "      <td>std</td>\n",
       "      <td>four</td>\n",
       "      <td>sedan</td>\n",
       "      <td>fwd</td>\n",
       "      <td>front</td>\n",
       "      <td>99.8</td>\n",
       "      <td>...</td>\n",
       "      <td>109</td>\n",
       "      <td>mpfi</td>\n",
       "      <td>3.19</td>\n",
       "      <td>3.40</td>\n",
       "      <td>10.0</td>\n",
       "      <td>102</td>\n",
       "      <td>5500</td>\n",
       "      <td>24</td>\n",
       "      <td>30</td>\n",
       "      <td>13950</td>\n",
       "    </tr>\n",
       "    <tr>\n",
       "      <th>3</th>\n",
       "      <td>2</td>\n",
       "      <td>164</td>\n",
       "      <td>audi</td>\n",
       "      <td>gas</td>\n",
       "      <td>std</td>\n",
       "      <td>four</td>\n",
       "      <td>sedan</td>\n",
       "      <td>4wd</td>\n",
       "      <td>front</td>\n",
       "      <td>99.4</td>\n",
       "      <td>...</td>\n",
       "      <td>136</td>\n",
       "      <td>mpfi</td>\n",
       "      <td>3.19</td>\n",
       "      <td>3.40</td>\n",
       "      <td>8.0</td>\n",
       "      <td>115</td>\n",
       "      <td>5500</td>\n",
       "      <td>18</td>\n",
       "      <td>22</td>\n",
       "      <td>17450</td>\n",
       "    </tr>\n",
       "    <tr>\n",
       "      <th>4</th>\n",
       "      <td>2</td>\n",
       "      <td>?</td>\n",
       "      <td>audi</td>\n",
       "      <td>gas</td>\n",
       "      <td>std</td>\n",
       "      <td>two</td>\n",
       "      <td>sedan</td>\n",
       "      <td>fwd</td>\n",
       "      <td>front</td>\n",
       "      <td>99.8</td>\n",
       "      <td>...</td>\n",
       "      <td>136</td>\n",
       "      <td>mpfi</td>\n",
       "      <td>3.19</td>\n",
       "      <td>3.40</td>\n",
       "      <td>8.5</td>\n",
       "      <td>110</td>\n",
       "      <td>5500</td>\n",
       "      <td>19</td>\n",
       "      <td>25</td>\n",
       "      <td>15250</td>\n",
       "    </tr>\n",
       "  </tbody>\n",
       "</table>\n",
       "<p>5 rows × 26 columns</p>\n",
       "</div>"
      ],
      "text/plain": [
       "   3    ?  alfa-romero  gas  std   two  convertible  rwd  front  88.60  ...    \\\n",
       "0  3    ?  alfa-romero  gas  std   two  convertible  rwd  front   88.6  ...     \n",
       "1  1    ?  alfa-romero  gas  std   two    hatchback  rwd  front   94.5  ...     \n",
       "2  2  164         audi  gas  std  four        sedan  fwd  front   99.8  ...     \n",
       "3  2  164         audi  gas  std  four        sedan  4wd  front   99.4  ...     \n",
       "4  2    ?         audi  gas  std   two        sedan  fwd  front   99.8  ...     \n",
       "\n",
       "   130  mpfi  3.47  2.68  9.00  111  5000  21  27  13495  \n",
       "0  130  mpfi  3.47  2.68   9.0  111  5000  21  27  16500  \n",
       "1  152  mpfi  2.68  3.47   9.0  154  5000  19  26  16500  \n",
       "2  109  mpfi  3.19  3.40  10.0  102  5500  24  30  13950  \n",
       "3  136  mpfi  3.19  3.40   8.0  115  5500  18  22  17450  \n",
       "4  136  mpfi  3.19  3.40   8.5  110  5500  19  25  15250  \n",
       "\n",
       "[5 rows x 26 columns]"
      ]
     },
     "execution_count": 39,
     "metadata": {},
     "output_type": "execute_result"
    }
   ],
   "source": [
    "# Exploring our dataset\n",
    "dataset.head()"
   ]
  },
  {
   "cell_type": "code",
   "execution_count": 40,
   "metadata": {},
   "outputs": [],
   "source": [
    "# The dataset has no headers. From the link with the details, we can place the headers at each column.\n",
    "cols = ['symboling', 'normalized-losses', 'make', 'fuel-type', 'aspiration', 'num-of-doors', 'body-style', \n",
    "        'drive-wheels', 'engine-location', 'wheel-base', 'length', 'width', 'height', 'curb-weight', 'engine-type', \n",
    "        'num-of-cylinders', 'engine-size', 'fuel-system', 'bore', 'stroke', 'compression-rate', 'horsepower', 'peak-rpm', 'city-mpg', 'highway-mpg', 'price']\n",
    "dataset = pd.read_excel('C:\\ΑΠΟΣΤΟΛΗΣ\\ΑΠΟΣΤΟΛΗΣ\\BET\\CARS.xlsx', names=cols)"
   ]
  },
  {
   "cell_type": "code",
   "execution_count": 41,
   "metadata": {
    "scrolled": true
   },
   "outputs": [
    {
     "name": "stdout",
     "output_type": "stream",
     "text": [
      "<class 'pandas.core.frame.DataFrame'>\n",
      "RangeIndex: 204 entries, 0 to 203\n",
      "Data columns (total 26 columns):\n",
      "symboling            204 non-null int64\n",
      "normalized-losses    204 non-null object\n",
      "make                 204 non-null object\n",
      "fuel-type            204 non-null object\n",
      "aspiration           204 non-null object\n",
      "num-of-doors         204 non-null object\n",
      "body-style           204 non-null object\n",
      "drive-wheels         204 non-null object\n",
      "engine-location      204 non-null object\n",
      "wheel-base           204 non-null float64\n",
      "length               204 non-null float64\n",
      "width                204 non-null float64\n",
      "height               204 non-null float64\n",
      "curb-weight          204 non-null int64\n",
      "engine-type          204 non-null object\n",
      "num-of-cylinders     204 non-null object\n",
      "engine-size          204 non-null int64\n",
      "fuel-system          204 non-null object\n",
      "bore                 204 non-null object\n",
      "stroke               204 non-null object\n",
      "compression-rate     204 non-null float64\n",
      "horsepower           204 non-null object\n",
      "peak-rpm             204 non-null object\n",
      "city-mpg             204 non-null int64\n",
      "highway-mpg          204 non-null int64\n",
      "price                204 non-null object\n",
      "dtypes: float64(5), int64(5), object(16)\n",
      "memory usage: 41.5+ KB\n"
     ]
    }
   ],
   "source": [
    "dataset.info()"
   ]
  },
  {
   "cell_type": "code",
   "execution_count": 42,
   "metadata": {
    "scrolled": true
   },
   "outputs": [
    {
     "data": {
      "text/plain": [
       "?        4\n",
       "7775     2\n",
       "8845     2\n",
       "13499    2\n",
       "7609     2\n",
       "5572     2\n",
       "8495     2\n",
       "6229     2\n",
       "7898     2\n",
       "6692     2\n",
       "18150    2\n",
       "7957     2\n",
       "9279     2\n",
       "8921     2\n",
       "7295     2\n",
       "16500    2\n",
       "16695    1\n",
       "9298     1\n",
       "6479     1\n",
       "6989     1\n",
       "13645    1\n",
       "17199    1\n",
       "7499     1\n",
       "12440    1\n",
       "28176    1\n",
       "11549    1\n",
       "32250    1\n",
       "11845    1\n",
       "7799     1\n",
       "37028    1\n",
       "        ..\n",
       "9095     1\n",
       "15750    1\n",
       "9960     1\n",
       "8358     1\n",
       "7299     1\n",
       "5118     1\n",
       "13845    1\n",
       "6295     1\n",
       "14489    1\n",
       "15040    1\n",
       "6575     1\n",
       "11199    1\n",
       "15998    1\n",
       "18620    1\n",
       "6529     1\n",
       "15985    1\n",
       "12764    1\n",
       "7349     1\n",
       "17075    1\n",
       "11694    1\n",
       "16515    1\n",
       "18420    1\n",
       "18344    1\n",
       "9895     1\n",
       "7053     1\n",
       "12964    1\n",
       "16430    1\n",
       "7126     1\n",
       "36000    1\n",
       "40960    1\n",
       "Name: price, Length: 186, dtype: int64"
      ]
     },
     "execution_count": 42,
     "metadata": {},
     "output_type": "execute_result"
    }
   ],
   "source": [
    "# We can detect already, that the price column, is referred as an object, which means that something\n",
    "# is wrong. We expected a float or an integer type\n",
    "dataset['price'].value_counts()"
   ]
  },
  {
   "cell_type": "code",
   "execution_count": 50,
   "metadata": {
    "collapsed": true
   },
   "outputs": [],
   "source": [
    "# We detected four cells with a price of \"?\". So, let's replace it using the np.nan \n",
    "dataset['price'] = dataset['price'].replace(\"?\" , np.nan)"
   ]
  },
  {
   "cell_type": "code",
   "execution_count": 51,
   "metadata": {},
   "outputs": [
    {
     "data": {
      "text/plain": [
       "16500.0    2\n",
       "6229.0     2\n",
       "9279.0     2\n",
       "5572.0     2\n",
       "7775.0     2\n",
       "8845.0     2\n",
       "8495.0     2\n",
       "7295.0     2\n",
       "7609.0     2\n",
       "7957.0     2\n",
       "7898.0     2\n",
       "13499.0    2\n",
       "18150.0    2\n",
       "6692.0     2\n",
       "8921.0     2\n",
       "9538.0     1\n",
       "16630.0    1\n",
       "7689.0     1\n",
       "7975.0     1\n",
       "6575.0     1\n",
       "22018.0    1\n",
       "5389.0     1\n",
       "7349.0     1\n",
       "13415.0    1\n",
       "9549.0     1\n",
       "21485.0    1\n",
       "24565.0    1\n",
       "8013.0     1\n",
       "34028.0    1\n",
       "8058.0     1\n",
       "          ..\n",
       "28176.0    1\n",
       "11248.0    1\n",
       "18344.0    1\n",
       "6488.0     1\n",
       "13200.0    1\n",
       "8358.0     1\n",
       "12290.0    1\n",
       "16695.0    1\n",
       "17199.0    1\n",
       "18420.0    1\n",
       "11199.0    1\n",
       "16503.0    1\n",
       "9989.0     1\n",
       "12170.0    1\n",
       "6855.0     1\n",
       "6785.0     1\n",
       "14399.0    1\n",
       "7395.0     1\n",
       "22625.0    1\n",
       "7053.0     1\n",
       "15998.0    1\n",
       "12940.0    1\n",
       "7099.0     1\n",
       "6338.0     1\n",
       "9295.0     1\n",
       "15580.0    1\n",
       "6377.0     1\n",
       "30760.0    1\n",
       "16925.0    1\n",
       "18920.0    1\n",
       "Name: price, Length: 185, dtype: int64"
      ]
     },
     "execution_count": 51,
     "metadata": {},
     "output_type": "execute_result"
    }
   ],
   "source": [
    "# Verification\n",
    "dataset['price'].value_counts()"
   ]
  },
  {
   "cell_type": "code",
   "execution_count": 52,
   "metadata": {
    "collapsed": true
   },
   "outputs": [],
   "source": [
    "#Dropping the nan values, if any\n",
    "dataset.dropna(subset = ['price'] , inplace = True)"
   ]
  },
  {
   "cell_type": "code",
   "execution_count": 53,
   "metadata": {
    "collapsed": true
   },
   "outputs": [],
   "source": [
    "# From the non numeric columns, I choose to use for my model, the fuel-type, the num-of-doors,\n",
    "# and the num of cylinders, which correspond to the  3,5,15 column index.So, all my features are:\n",
    "X = dataset.iloc[:, [3,5,9,10,11,12,13,15,16,20,23,24]].values"
   ]
  },
  {
   "cell_type": "code",
   "execution_count": 54,
   "metadata": {
    "collapsed": true
   },
   "outputs": [],
   "source": [
    "#    ENCODING CATEGORICAL DATA\n",
    "# Using LabelEncoder, OneHotEncoder, we will make these columns suitable for our regressors\n",
    "from sklearn.preprocessing import LabelEncoder, OneHotEncoder\n",
    "labelencoder = LabelEncoder()\n",
    "X[:, 0] = labelencoder.fit_transform(X[: ,0 ])\n",
    "onehotecoder = OneHotEncoder(categorical_features=[0])\n",
    "X[:, 1] = labelencoder.fit_transform(X[: ,1 ])\n",
    "onehotecoder = OneHotEncoder(categorical_features=[1])\n",
    "X[:, 7] = labelencoder.fit_transform(X[: ,7 ])\n",
    "onehotecoder = OneHotEncoder(categorical_features=[7])\n",
    "X = onehotecoder.fit_transform(X).toarray()\n"
   ]
  },
  {
   "cell_type": "code",
   "execution_count": 55,
   "metadata": {
    "collapsed": true
   },
   "outputs": [],
   "source": [
    "# My target variable\n",
    "y = dataset.iloc[: , 25:26].values"
   ]
  },
  {
   "cell_type": "code",
   "execution_count": 56,
   "metadata": {
    "collapsed": true
   },
   "outputs": [],
   "source": [
    "# splitting the dataset\n",
    "from sklearn.model_selection import train_test_split\n",
    "X_train, X_test , y_train , y_test = train_test_split(X, y , test_size=0.2, random_state=0)"
   ]
  },
  {
   "cell_type": "code",
   "execution_count": 57,
   "metadata": {},
   "outputs": [],
   "source": [
    "# Importing the Regressors\n",
    "from sklearn.linear_model import LinearRegression\n",
    "regressor1 = LinearRegression()\n",
    "\n",
    "from sklearn.ensemble import RandomForestRegressor\n",
    "regressor2 = RandomForestRegressor(random_state = 42 )\n",
    "\n",
    "from sklearn.svm import SVR\n",
    "regressor3 = SVR()\n",
    "\n",
    "from sklearn.tree import DecisionTreeRegressor\n",
    "regressor4 = DecisionTreeRegressor(random_state = 42)\n"
   ]
  },
  {
   "cell_type": "code",
   "execution_count": 58,
   "metadata": {},
   "outputs": [
    {
     "name": "stderr",
     "output_type": "stream",
     "text": [
      "C:\\Users\\tolaros\\Anaconda3\\lib\\site-packages\\ipykernel_launcher.py:6: DataConversionWarning: A column-vector y was passed when a 1d array was expected. Please change the shape of y to (n_samples,), for example using ravel().\n",
      "  \n"
     ]
    },
    {
     "name": "stdout",
     "output_type": "stream",
     "text": [
      "[3700.3534873406657, 2466.3786638723568, 7989.5822139999973, 2999.7803139829225]\n"
     ]
    },
    {
     "name": "stderr",
     "output_type": "stream",
     "text": [
      "C:\\Users\\tolaros\\Anaconda3\\lib\\site-packages\\sklearn\\utils\\validation.py:578: DataConversionWarning: A column-vector y was passed when a 1d array was expected. Please change the shape of y to (n_samples, ), for example using ravel().\n",
      "  y = column_or_1d(y, warn=True)\n"
     ]
    }
   ],
   "source": [
    "# Next, we will fit each regressor to our test set. After that we will use the avg rmse\n",
    "# as a metric, for each regressor accuracy\n",
    "results = []\n",
    "regressors = [regressor1, regressor2, regressor3, regressor4]\n",
    "for regressor in regressors:\n",
    "    regressor.fit(X_train, y_train)\n",
    "    from sklearn.model_selection import cross_val_score, KFold\n",
    "    from sklearn   import metrics\n",
    "    kf = KFold(5, shuffle=True, random_state=1)\n",
    "    mses = cross_val_score(estimator = regressor, X = X_train, y = np.ravel(y_train, order = 'C'), scoring=\"neg_mean_squared_error\", cv=kf)\n",
    "    rmses = np.sqrt(np.absolute(mses))\n",
    "    avg_rmse = np.mean(rmses)\n",
    "    results.append(avg_rmse)    \n",
    "print(results)"
   ]
  },
  {
   "cell_type": "code",
   "execution_count": 30,
   "metadata": {},
   "outputs": [
    {
     "name": "stderr",
     "output_type": "stream",
     "text": [
      "C:\\Users\\tolaros\\Anaconda3\\lib\\site-packages\\ipykernel_launcher.py:7: DataConversionWarning: A column-vector y was passed when a 1d array was expected. Please change the shape of y to (n_samples,), for example using ravel().\n",
      "  import sys\n",
      "C:\\Users\\tolaros\\Anaconda3\\lib\\site-packages\\ipykernel_launcher.py:7: DataConversionWarning: A column-vector y was passed when a 1d array was expected. Please change the shape of y to (n_samples,), for example using ravel().\n",
      "  import sys\n",
      "C:\\Users\\tolaros\\Anaconda3\\lib\\site-packages\\ipykernel_launcher.py:7: DataConversionWarning: A column-vector y was passed when a 1d array was expected. Please change the shape of y to (n_samples,), for example using ravel().\n",
      "  import sys\n",
      "C:\\Users\\tolaros\\Anaconda3\\lib\\site-packages\\ipykernel_launcher.py:7: DataConversionWarning: A column-vector y was passed when a 1d array was expected. Please change the shape of y to (n_samples,), for example using ravel().\n",
      "  import sys\n",
      "C:\\Users\\tolaros\\Anaconda3\\lib\\site-packages\\ipykernel_launcher.py:7: DataConversionWarning: A column-vector y was passed when a 1d array was expected. Please change the shape of y to (n_samples,), for example using ravel().\n",
      "  import sys\n"
     ]
    },
    {
     "data": {
      "text/plain": [
       "<matplotlib.axes._subplots.AxesSubplot at 0xdd0edd8>"
      ]
     },
     "execution_count": 30,
     "metadata": {},
     "output_type": "execute_result"
    },
    {
     "data": {
      "image/png": "[encoded data removed]",
      "text/plain": [
       "<matplotlib.figure.Figure at 0xdd16fd0>"
      ]
     },
     "metadata": {},
     "output_type": "display_data"
    }
   ],
   "source": [
    "# The lowest rmse comes with the random forest regressor. I am still a little bit curious whether we can improve\n",
    "# our regressor by tuning hyperparams\n",
    "results2 = []\n",
    "n_estimators = [20,50,100,300,500]\n",
    "for trees in n_estimators:\n",
    "    regressor = RandomForestRegressor(trees , random_state = 42)\n",
    "    regressor.fit(X_train, y_train)\n",
    "    y_pred = regressor.predict(X_test)\n",
    "    from sklearn.model_selection import cross_val_score, KFold\n",
    "    from sklearn   import metrics\n",
    "    kf = KFold(5, shuffle=True, random_state=1)\n",
    "    mses = cross_val_score(estimator = regressor, X = X_train, y = np.ravel(y_train, order = 'C'), scoring=\"neg_mean_squared_error\", cv=kf)\n",
    "    rmses = np.sqrt(np.absolute(mses))\n",
    "    avg_rmse = np.mean(rmses)\n",
    "    results2.append(avg_rmse)\n",
    "pd.Series(results2, n_estimators).plot()"
   ]
  },
  {
   "cell_type": "code",
   "execution_count": 24,
   "metadata": {},
   "outputs": [
    {
     "name": "stdout",
     "output_type": "stream",
     "text": [
      "[2481.2322874378915, 2404.5468069826675, 2416.6913220046326, 2425.13161063395, 2435.1673091541902]\n"
     ]
    }
   ],
   "source": [
    "print(results2)"
   ]
  },
  {
   "cell_type": "code",
   "execution_count": 31,
   "metadata": {},
   "outputs": [
    {
     "name": "stderr",
     "output_type": "stream",
     "text": [
      "C:\\Users\\tolaros\\Anaconda3\\lib\\site-packages\\ipykernel_launcher.py:7: DataConversionWarning: A column-vector y was passed when a 1d array was expected. Please change the shape of y to (n_samples,), for example using ravel().\n",
      "  import sys\n",
      "C:\\Users\\tolaros\\Anaconda3\\lib\\site-packages\\ipykernel_launcher.py:7: DataConversionWarning: A column-vector y was passed when a 1d array was expected. Please change the shape of y to (n_samples,), for example using ravel().\n",
      "  import sys\n",
      "C:\\Users\\tolaros\\Anaconda3\\lib\\site-packages\\ipykernel_launcher.py:7: DataConversionWarning: A column-vector y was passed when a 1d array was expected. Please change the shape of y to (n_samples,), for example using ravel().\n",
      "  import sys\n",
      "C:\\Users\\tolaros\\Anaconda3\\lib\\site-packages\\ipykernel_launcher.py:7: DataConversionWarning: A column-vector y was passed when a 1d array was expected. Please change the shape of y to (n_samples,), for example using ravel().\n",
      "  import sys\n",
      "C:\\Users\\tolaros\\Anaconda3\\lib\\site-packages\\ipykernel_launcher.py:7: DataConversionWarning: A column-vector y was passed when a 1d array was expected. Please change the shape of y to (n_samples,), for example using ravel().\n",
      "  import sys\n"
     ]
    },
    {
     "data": {
      "text/plain": [
       "<matplotlib.axes._subplots.AxesSubplot at 0xc6b8d68>"
      ]
     },
     "execution_count": 31,
     "metadata": {},
     "output_type": "execute_result"
    },
    {
     "data": {
      "image/png": "[encoded data removed]",
      "text/plain": [
       "<matplotlib.figure.Figure at 0xdcba3c8>"
      ]
     },
     "metadata": {},
     "output_type": "display_data"
    }
   ],
   "source": [
    "# The avg rmse error minimizes for n_estimators = 50. Next, using this price, we will see\n",
    "# if the error decreases even more, by optimizing the max leaf nodes \n",
    "results3 = []\n",
    "max_leaf_nodes = [5,20,50,100,200]\n",
    "for leaf in max_leaf_nodes:\n",
    "    regressor = RandomForestRegressor(n_estimators = 50 , random_state = 42, max_leaf_nodes = leaf)\n",
    "    regressor.fit(X_train, y_train)\n",
    "    y_pred = regressor.predict(X_test)\n",
    "    from sklearn.model_selection import cross_val_score, KFold\n",
    "    from sklearn   import metrics\n",
    "    kf = KFold(5, shuffle=True, random_state=1)\n",
    "    mses = cross_val_score(estimator = regressor, X = X_train, y = np.ravel(y_train, order = 'C'), scoring=\"neg_mean_squared_error\", cv=kf)\n",
    "    rmses = np.sqrt(np.absolute(mses))\n",
    "    avg_rmse = np.mean(rmses)\n",
    "    results3.append(avg_rmse)\n",
    "pd.Series(results3, max_leaf_nodes).plot() \n"
   ]
  },
  {
   "cell_type": "code",
   "execution_count": 26,
   "metadata": {},
   "outputs": [
    {
     "name": "stdout",
     "output_type": "stream",
     "text": [
      "[2703.1065621104945, 2448.6743972609429, 2387.0908948745796, 2386.2941621891773, 2386.2941621891773]\n"
     ]
    }
   ],
   "source": [
    "print(results3)"
   ]
  },
  {
   "cell_type": "code",
   "execution_count": null,
   "metadata": {
    "collapsed": true
   },
   "outputs": [],
   "source": [
    "# The error minimizes at a price of 2386.3  , where max leaf nodes = 50"
   ]
  },
  {
   "cell_type": "code",
   "execution_count": 32,
   "metadata": {},
   "outputs": [
    {
     "name": "stdout",
     "output_type": "stream",
     "text": [
      "AxesSubplot(0.125,0.125;0.775x0.755)\n"
     ]
    },
    {
     "data": {
      "image/png": "[encoded data removed]",
      "text/plain": [
       "<matplotlib.figure.Figure at 0xc357c18>"
      ]
     },
     "metadata": {},
     "output_type": "display_data"
    }
   ],
   "source": [
    "# The avg_rmse  minimizes for max_leaf_nodes = 50 , at a price of 2386.29 \n",
    "# So our best regressor is tuned, for the above hyperparams\n",
    "# Another option that we have is, the feature importance attribute of this regressor.\n",
    "\n",
    "list(regressor.feature_importances_)\n",
    "feature_importances = pd.Series(regressor.feature_importances_ )\n",
    "feature_importances.sort_values()\n",
    "print(feature_importances.sort_values().plot(kind = 'bar'))\n"
   ]
  },
  {
   "cell_type": "code",
   "execution_count": 35,
   "metadata": {},
   "outputs": [
    {
     "name": "stderr",
     "output_type": "stream",
     "text": [
      "C:\\Users\\tolaros\\Anaconda3\\lib\\site-packages\\ipykernel_launcher.py:7: DataConversionWarning: A column-vector y was passed when a 1d array was expected. Please change the shape of y to (n_samples,), for example using ravel().\n",
      "  import sys\n"
     ]
    },
    {
     "name": "stdout",
     "output_type": "stream",
     "text": [
      "2387.09089487\n"
     ]
    }
   ],
   "source": [
    "# features number 13 and 14 outstand from the others.These are curb-weight and engine size.\n",
    "# Would it be possible that our rmse error decreases  more, if we only used these two? Let's find out\n",
    "X = dataset[['curb-weight' , 'engine-size']].values\n",
    "y = dataset.iloc[: , 25:26].values\n",
    "from sklearn.ensemble import RandomForestRegressor\n",
    "regressor = RandomForestRegressor(random_state = 42, n_estimators = 50, max_leaf_nodes = 50 )\n",
    "regressor.fit(X_train, y_train)\n",
    "y_pred = regressor.predict(X_test)\n",
    "from sklearn.model_selection import cross_val_score, KFold\n",
    "from sklearn   import metrics\n",
    "kf = KFold(5, shuffle=True, random_state=1)\n",
    "mses = cross_val_score(estimator = regressor, X = X_train, y = np.ravel(y_train, order = 'C'), scoring=\"neg_mean_squared_error\", cv=kf)\n",
    "rmses = np.sqrt(np.absolute(mses))\n",
    "newavg_rmse = np.mean(rmses)\n",
    "print(newavg_rmse)"
   ]
  },
  {
   "cell_type": "code",
   "execution_count": null,
   "metadata": {
    "collapsed": true
   },
   "outputs": [],
   "source": [
    "# Almost identical avg rmse. \n",
    "# To conclude, our best regressor is a RandomForestRegressor eith the following hyperparameters\n",
    "# random_state = 42\n",
    "# n_estimators = 50\n",
    "# max_leaf_nodes = 50\n"
   ]
  }
 ],
 "metadata": {
  "kernelspec": {
   "display_name": "Python 3",
   "language": "python",
   "name": "python3"
  },
  "language_info": {
   "codemirror_mode": {
    "name": "ipython",
    "version": 3
   },
   "file_extension": ".py",
   "mimetype": "text/x-python",
   "name": "python",
   "nbconvert_exporter": "python",
   "pygments_lexer": "ipython3",
   "version": "3.6.3"
  }
 },
 "nbformat": 4,
 "nbformat_minor": 2
}
